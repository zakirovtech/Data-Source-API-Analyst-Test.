{
  "nbformat": 4,
  "nbformat_minor": 0,
  "metadata": {
    "colab": {
      "provenance": []
    },
    "kernelspec": {
      "name": "python3",
      "display_name": "Python 3"
    },
    "language_info": {
      "name": "python"
    }
  },
  "cells": [
    {
      "cell_type": "code",
      "execution_count": null,
      "metadata": {
        "id": "VYYG73OMWEsn"
      },
      "outputs": [],
      "source": [
        "!git clone https://github.com/zakirovtech/improvado-data-analyst-python-collab.git\n",
        "\n",
        "%cd improvado-data-analyst-python-collab/Content/github_api_python/api\n",
        "\n",
        "%cp .env.example .env\n",
        "\n",
        "%cd ..\n",
        "\n",
        "%ls\n",
        "\n",
        "%pip install -r requirements.txt"
      ]
    },
    {
      "cell_type": "markdown",
      "source": [
        "After copying **.env** above you need to set up your personal Github API token in this dotenv file"
      ],
      "metadata": {
        "id": "db2BPWVxjYyY"
      }
    },
    {
      "cell_type": "code",
      "source": [
        "import httpx\n",
        "import os\n",
        "\n",
        "from dotenv import load_dotenv\n",
        "\n",
        "from api import settings\n",
        "from api.handlers import authenticate, search_commits, search_contents, search_repos\n",
        "\n",
        "load_dotenv()\n",
        "\n",
        "auth_headers = {\n",
        "    \"Authorization\": f\"Bearer {os.getenv('GITHUB_API_TOKEN')}\",\n",
        "    \"X-GitHub-Api-Version\": \"2022-11-28\"\n",
        "}\n",
        "\n",
        "\n",
        "def main():\n",
        "     with httpx.Client() as s:\n",
        "        s.headers.update(auth_headers)\n",
        "\n",
        "        if authenticate(s):\n",
        "            search_repos(s, key_word=\"django-blog\", language=\"python\", fork=\"only\", count_in_page=10)\n",
        "\n",
        "\n",
        "if __name__ == \"__main__\":\n",
        "    main()\n"
      ],
      "metadata": {
        "id": "RMDntcBCiogP"
      },
      "execution_count": null,
      "outputs": []
    },
    {
      "cell_type": "code",
      "source": [
        "import httpx\n",
        "import os\n",
        "\n",
        "from dotenv import load_dotenv\n",
        "\n",
        "from api import settings\n",
        "from api.handlers import authenticate, search_commits, search_contents, search_repos\n",
        "\n",
        "load_dotenv()\n",
        "\n",
        "auth_headers = {\n",
        "    \"Authorization\": f\"Bearer {os.getenv('GITHUB_API_TOKEN')}\",\n",
        "    \"X-GitHub-Api-Version\": \"2022-11-28\"\n",
        "}\n",
        "\n",
        "\n",
        "def main():\n",
        "     with httpx.Client() as s:\n",
        "        s.headers.update(auth_headers)\n",
        "\n",
        "        if authenticate(s):\n",
        "            search_commits(s, key_word=\"Initial\", count_in_page=10)\n",
        "\n",
        "\n",
        "if __name__ == \"__main__\":\n",
        "    main()\n"
      ],
      "metadata": {
        "id": "Iw5ljZGCitVr"
      },
      "execution_count": null,
      "outputs": []
    },
    {
      "cell_type": "code",
      "source": [
        "import httpx\n",
        "import os\n",
        "\n",
        "from dotenv import load_dotenv\n",
        "\n",
        "from api import settings\n",
        "from api.handlers import authenticate, search_commits, search_contents, search_repos\n",
        "\n",
        "load_dotenv()\n",
        "\n",
        "auth_headers = {\n",
        "    \"Authorization\": f\"Bearer {os.getenv('GITHUB_API_TOKEN')}\",\n",
        "    \"X-GitHub-Api-Version\": \"2022-11-28\"\n",
        "}\n",
        "\n",
        "\n",
        "def main():\n",
        "     with httpx.Client() as s:\n",
        "        s.headers.update(auth_headers)\n",
        "\n",
        "        if authenticate(s):\n",
        "            search_contents(s, owner=\"zakirovtech\", repo=\"zakirovtech\", path=\"README.md\")\n",
        "\n",
        "\n",
        "if __name__ == \"__main__\":\n",
        "    main()\n"
      ],
      "metadata": {
        "id": "lXnQ0wTahgre"
      },
      "execution_count": null,
      "outputs": []
    },
    {
      "cell_type": "code",
      "source": [],
      "metadata": {
        "id": "wV7DBUHagAwS"
      },
      "execution_count": null,
      "outputs": []
    }
  ]
}